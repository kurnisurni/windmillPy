{
 "cells": [
  {
   "cell_type": "code",
   "execution_count": null,
   "metadata": {},
   "outputs": [],
   "source": [
    "import numpy as np\n",
    "import matplotlib.pyplot as plt\n",
    "import pandas as pd\n",
    "from IPython.display import clear_output\n",
    "from matplotlib.ticker import MultipleLocator\n",
    "from matplotlib.patches import Rectangle\n",
    "%matplotlib inline\n",
    "%config InlineBackend.figure_formats=set(['svg'])"
   ]
  },
  {
   "cell_type": "code",
   "execution_count": null,
   "metadata": {},
   "outputs": [],
   "source": [
    "turbines = pd.read_csv('wind_data .csv')\n",
    "\n",
    "power_prod=turbines.iloc[:,1:]\n",
    "power_prod.drop(columns=['Theoretical_Power_Curve (KWh)'], inplace=True)\n",
    "power_prod=power_prod.round(1)\n",
    "\n",
    "def round_wind_direction(x):\n",
    "    list_of_directions=[15+i*30 for i in range(11)]\n",
    "    N=sum([x>i for i in list_of_directions])\n",
    "    return N*30\n",
    "\n",
    "power_prod['mean_Direction']=power_prod['Wind Direction (°)'].apply(round_wind_direction)\n",
    "power_prod['Round_speed']=power_prod['Wind Speed (m/s)'].apply(lambda x: np.round(2*x)/2.0)\n",
    "\n",
    "def energy_production(wind,direction):\n",
    "    temp=power_prod[(power_prod['Round_speed']==wind) & (power_prod['mean_Direction']==direction)]['LV ActivePower (kW)']\n",
    "    if temp.shape[0]==0:\n",
    "        return 0\n",
    "    else:\n",
    "        return temp.mean()"
   ]
  }
 ],
 "metadata": {
  "kernelspec": {
   "display_name": "Python 3",
   "language": "python",
   "name": "python3"
  },
  "language_info": {
   "codemirror_mode": {
    "name": "ipython",
    "version": 3
   },
   "file_extension": ".py",
   "mimetype": "text/x-python",
   "name": "python",
   "nbconvert_exporter": "python",
   "pygments_lexer": "ipython3",
   "version": "3.7.7"
  }
 },
 "nbformat": 4,
 "nbformat_minor": 4
}
